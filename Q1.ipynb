{
 "cells": [
  {
   "cell_type": "code",
   "execution_count": null,
   "id": "de35c763-a648-4d6a-82de-0e3e187c3a82",
   "metadata": {},
   "outputs": [
    {
     "name": "stdout",
     "output_type": "stream",
     "text": [
      "_ _ _ _ _ _ _ _\n",
      "\n",
      "_ _ _ _ _ _ _ _\n"
     ]
    },
    {
     "name": "stdin",
     "output_type": "stream",
     "text": [
      "Guess a letter:  a\n"
     ]
    },
    {
     "name": "stdout",
     "output_type": "stream",
     "text": [
      "--------------\n",
      "_ _ _ _ _ a _ _\n",
      "Incorrect guesses: 1\n",
      "_ _ _ _ _ a _ _\n",
      "_ _ _ _ _ a _ _\n",
      "\n",
      "_ _ _ _ _ a _ _\n"
     ]
    }
   ],
   "source": [
    "import random\n",
    "\n",
    "# List of words with more than six letters\n",
    "words_list = [\n",
    "    \"computer\", \"elephant\", \"ziraffe\", \"television\", \n",
    "]\n",
    "\n",
    "def choose_word(words):\n",
    "    return random.choice(words).lower()\n",
    "\n",
    "def display_hidden_word(word, guessed_letters):\n",
    "    hidden_word = []\n",
    "    for letter in word:\n",
    "        if letter in guessed_letters:\n",
    "            hidden_word.append(letter)\n",
    "        else:\n",
    "            hidden_word.append(\"_\")\n",
    "    print(\" \".join(hidden_word))\n",
    "    return \" \".join(hidden_word)\n",
    "\n",
    "def display_hangman(incorrect_guesses):\n",
    "    stages = [\n",
    "        \"\"\"\n",
    "        o\n",
    "        \"\"\",   # 1 incorrect guess\n",
    "        \"\"\"\n",
    "        o\n",
    "        |\n",
    "        \"\"\",   # 2 incorrect guesses\n",
    "        \"\"\"\n",
    "        o\n",
    "       /|\n",
    "        \"\"\",   # 3 incorrect guesses\n",
    "        \"\"\"\n",
    "        o\n",
    "       /|\\\\\n",
    "        \"\"\",   # 4 incorrect guesses\n",
    "        \"\"\"\n",
    "        o\n",
    "       /|\\\\\n",
    "       /\n",
    "        \"\"\",   # 5 incorrect guesses\n",
    "        \"\"\"\n",
    "        o\n",
    "       /|\\\\\n",
    "       / \\\\\n",
    "        \"\"\"   # 6 incorrect guesses\n",
    "    ]\n",
    "\n",
    "selected_word = choose_word(words_list)\n",
    "incorrect_guesses = 0\n",
    "max_incorrect_guesses = 6\n",
    "guessed_letters = []\n",
    "\n",
    "while incorrect_guesses < max_incorrect_guesses:\n",
    "\n",
    "    selected_wordList = selected_word.split()\n",
    "    #hidden_word_list = display_hidden_word(selected_word)\n",
    "\n",
    "    print(\"\\n\" + display_hidden_word(selected_word, guessed_letters))\n",
    "    guess = input(\"Guess a letter: \").lower()\n",
    "\n",
    "    if guess in guessed_letters:\n",
    "            print(\"You already guessed that letter\")\n",
    "            incorrect_guesses += 1\n",
    "            display_hangman(incorrect_guesses)\n",
    "            continue\n",
    "\n",
    "    if len(guessed_letters) == 0:\n",
    "        guessed_letters = guess\n",
    "    else:\n",
    "        guessed_letters.append(guess)\n",
    "\n",
    "    if guess not in selected_wordList:\n",
    "        incorrect_guesses += 1             \n",
    "    \n",
    "    print(\"--------------\")\n",
    "    display_hangman(incorrect_guesses)\n",
    "    display_hidden_word(selected_word, guessed_letters)\n",
    "    print(\"Incorrect guesses: \" + str(incorrect_guesses))\n",
    "    \n",
    "    if \"_\" not in display_hidden_word(selected_word, guessed_letters):\n",
    "        print(f\"\\nCongratulations! You've guessed the word: {selected_word}\")\n",
    "        break\n",
    "\n",
    "print(f\"\\nSorry, you've run out of guesses. The word was: {selected_word}\")"
   ]
  },
  {
   "cell_type": "code",
   "execution_count": null,
   "id": "d1b7b0d5-a1f1-49a8-8fbd-2cbe7515c12c",
   "metadata": {},
   "outputs": [],
   "source": []
  }
 ],
 "metadata": {
  "kernelspec": {
   "display_name": "Python 3 (ipykernel)",
   "language": "python",
   "name": "python3"
  },
  "language_info": {
   "codemirror_mode": {
    "name": "ipython",
    "version": 3
   },
   "file_extension": ".py",
   "mimetype": "text/x-python",
   "name": "python",
   "nbconvert_exporter": "python",
   "pygments_lexer": "ipython3",
   "version": "3.11.7"
  }
 },
 "nbformat": 4,
 "nbformat_minor": 5
}
